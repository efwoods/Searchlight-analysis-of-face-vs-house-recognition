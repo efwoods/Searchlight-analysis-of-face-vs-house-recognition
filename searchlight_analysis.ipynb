{
 "cells": [
  {
   "cell_type": "code",
   "execution_count": 1,
   "metadata": {},
   "outputs": [
    {
     "name": "stdout",
     "output_type": "stream",
     "text": [
      "Anatomical nifti image (3D) is located at: /Users/evanwoods/nilearn_data/haxby2001/mask.nii.gz\n",
      "Functional nifti image (4D) is located at: /Users/evanwoods/nilearn_data/haxby2001/subj2/bold.nii.gz\n"
     ]
    }
   ],
   "source": [
    "# Fetch the Haxby Dataset\n",
    "\n",
    "import pandas as pd\n",
    "from nilearn import datasets\n",
    "from nilearn.image import get_data, load_img, new_img_like\n",
    "\n",
    "haxby_dataset = datasets.fetch_haxby()\n",
    "\n",
    "print(f\"Anatomical nifti image (3D) is located at: {haxby_dataset.mask}\")\n",
    "print(f\"Functional nifti image (4D) is located at: {haxby_dataset.func[0]}\")\n",
    "\n",
    "fmri_filename = haxby_dataset.func[0]\n",
    "labels = pd.read_csv(haxby_dataset.session_target[0], sep=' ')\n",
    "y = labels['labels']\n",
    "run = labels['chunks']\n",
    "\n"
   ]
  },
  {
   "cell_type": "code",
   "execution_count": 3,
   "metadata": {},
   "outputs": [
    {
     "data": {
      "text/plain": [
       "array(['rest', 'scissors', 'face', 'cat', 'shoe', 'house', 'scrambledpix',\n",
       "       'bottle', 'chair'], dtype=object)"
      ]
     },
     "execution_count": 3,
     "metadata": {},
     "output_type": "execute_result"
    }
   ],
   "source": [
    "y.unique()"
   ]
  },
  {
   "cell_type": "code",
   "execution_count": null,
   "metadata": {},
   "outputs": [],
   "source": [
    "# Restrict to faces and houses\n",
    "\n",
    "from nilearn.image import index_img\n",
    "\n",
    "condition_mask = y.isin(['face', 'house'])\n",
    "\n",
    "fmri_img = index_img(fmri_filename, condition_mask)\n",
    "y, run = y[condition_mask], run[condition_mask]\n"
   ]
  }
 ],
 "metadata": {
  "kernelspec": {
   "display_name": "py_env_nilearn",
   "language": "python",
   "name": "python3"
  },
  "language_info": {
   "codemirror_mode": {
    "name": "ipython",
    "version": 3
   },
   "file_extension": ".py",
   "mimetype": "text/x-python",
   "name": "python",
   "nbconvert_exporter": "python",
   "pygments_lexer": "ipython3",
   "version": "3.11.7"
  }
 },
 "nbformat": 4,
 "nbformat_minor": 2
}
